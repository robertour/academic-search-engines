{
 "cells": [
  {
   "cell_type": "code",
   "execution_count": 1,
   "id": "61bb94d1-b934-49e0-8d29-0ac9f9d5c268",
   "metadata": {
    "tags": [],
    "vscode": {
     "languageId": "r"
    }
   },
   "outputs": [
    {
     "name": "stderr",
     "output_type": "stream",
     "text": [
      "\n",
      "Attaching package: ‘dplyr’\n",
      "\n",
      "\n",
      "The following objects are masked from ‘package:stats’:\n",
      "\n",
      "    filter, lag\n",
      "\n",
      "\n",
      "The following objects are masked from ‘package:base’:\n",
      "\n",
      "    intersect, setdiff, setequal, union\n",
      "\n",
      "\n",
      "Loading required package: Matrix\n",
      "\n",
      "\n",
      "Attaching package: ‘lmerTest’\n",
      "\n",
      "\n",
      "The following object is masked from ‘package:lme4’:\n",
      "\n",
      "    lmer\n",
      "\n",
      "\n",
      "The following object is masked from ‘package:stats’:\n",
      "\n",
      "    step\n",
      "\n",
      "\n"
     ]
    }
   ],
   "source": [
    "# Loading\n",
    "library(dplyr)\n",
    "\n",
    "\n",
    "# fit and test linear mixed models\n",
    "library(lme4)\n",
    "library(lmerTest)\n",
    "\n",
    "# contrasts\n",
    "# install.packages(\"pbkrtest\")\n",
    "library(emmeans)\n",
    "\n",
    "# function pvalue is here\n",
    "library(scales)\n",
    "\n",
    "# code to add *, ** and *** for significances\n",
    "makeStars <- function(x){\n",
    "  stars <- c(\"***\", \"**\", \"*\", \"\")\n",
    "  vec <- c(0, 0.001, 0.01, 0.05, 1.1)\n",
    "  i <- findInterval(x, vec)\n",
    "  stars[i]\n",
    "}\n",
    "\n",
    "# xlsx files\n",
    "df <- read.csv(\"data/main.csv\")"
   ]
  },
  {
   "attachments": {},
   "cell_type": "markdown",
   "id": "7b706ae0",
   "metadata": {},
   "source": [
    "# Factorization"
   ]
  },
  {
   "cell_type": "code",
   "execution_count": 2,
   "id": "5ed92374-aeea-47f4-8bc2-3dde83caff27",
   "metadata": {
    "tags": [],
    "vscode": {
     "languageId": "r"
    }
   },
   "outputs": [],
   "source": [
    "# factorize topics\n",
    "df$region <- as.factor(df$region)\n",
    "df$browser <- as.factor(df$browser)\n",
    "df$engine <- as.factor(df$engine)\n",
    "df$id <- as.factor(df$id)\n",
    "\n",
    "df$topic <- as.factor(df$topic)\n",
    "df$query_type <- factor(df$query_type, levels=c('health','technology')) \n",
    "df$trt <- factor(df$trt, levels = c('risks', 'benefits'))\n"
   ]
  },
  {
   "cell_type": "markdown",
   "id": "0899a982",
   "metadata": {},
   "source": [
    "# Model selection"
   ]
  },
  {
   "cell_type": "code",
   "execution_count": 3,
   "id": "8d059182",
   "metadata": {
    "vscode": {
     "languageId": "r"
    }
   },
   "outputs": [
    {
     "name": "stderr",
     "output_type": "stream",
     "text": [
      "boundary (singular) fit: see help('isSingular')\n",
      "\n",
      "boundary (singular) fit: see help('isSingular')\n",
      "\n",
      "boundary (singular) fit: see help('isSingular')\n",
      "\n"
     ]
    },
    {
     "data": {
      "text/html": [
       "<table class=\"dataframe\">\n",
       "<caption>A data.frame: 3 × 2</caption>\n",
       "<thead>\n",
       "\t<tr><th></th><th scope=col>df</th><th scope=col>AIC</th></tr>\n",
       "\t<tr><th></th><th scope=col>&lt;dbl&gt;</th><th scope=col>&lt;dbl&gt;</th></tr>\n",
       "</thead>\n",
       "<tbody>\n",
       "\t<tr><th scope=row>fit1</th><td>15</td><td>42376.61</td></tr>\n",
       "\t<tr><th scope=row>fit2</th><td>14</td><td>42374.61</td></tr>\n",
       "\t<tr><th scope=row>fit3</th><td>14</td><td>42785.52</td></tr>\n",
       "</tbody>\n",
       "</table>\n"
      ],
      "text/latex": [
       "A data.frame: 3 × 2\n",
       "\\begin{tabular}{r|ll}\n",
       "  & df & AIC\\\\\n",
       "  & <dbl> & <dbl>\\\\\n",
       "\\hline\n",
       "\tfit1 & 15 & 42376.61\\\\\n",
       "\tfit2 & 14 & 42374.61\\\\\n",
       "\tfit3 & 14 & 42785.52\\\\\n",
       "\\end{tabular}\n"
      ],
      "text/markdown": [
       "\n",
       "A data.frame: 3 × 2\n",
       "\n",
       "| <!--/--> | df &lt;dbl&gt; | AIC &lt;dbl&gt; |\n",
       "|---|---|---|\n",
       "| fit1 | 15 | 42376.61 |\n",
       "| fit2 | 14 | 42374.61 |\n",
       "| fit3 | 14 | 42785.52 |\n",
       "\n"
      ],
      "text/plain": [
       "     df AIC     \n",
       "fit1 15 42376.61\n",
       "fit2 14 42374.61\n",
       "fit3 14 42785.52"
      ]
     },
     "metadata": {},
     "output_type": "display_data"
    }
   ],
   "source": [
    "fit1 <- lmer(valence ~   trt * query_type * engine + region + browser  + (1|topic) + (day|id) ,  data = df, REML=F)\n",
    "fit2 <- lmer(valence ~   trt * query_type * engine + region + browser  + (1|topic) + (1|day) + (1|id) ,  data = df, REML=F)\n",
    "fit3 <- lmer(valence ~   trt * query_type * engine + region + browser  + (day|id) ,  data = df, REML=F)\n",
    "\n",
    "AIC(fit1, fit2, fit3)"
   ]
  },
  {
   "attachments": {},
   "cell_type": "markdown",
   "id": "8b5bcdfa",
   "metadata": {},
   "source": [
    "# Full Analisys"
   ]
  },
  {
   "cell_type": "code",
   "execution_count": 4,
   "id": "642ac851-f438-4c2d-97d1-fa28b0aa4295",
   "metadata": {
    "tags": [],
    "vscode": {
     "languageId": "r"
    }
   },
   "outputs": [
    {
     "name": "stderr",
     "output_type": "stream",
     "text": [
      "boundary (singular) fit: see help('isSingular')\n",
      "\n"
     ]
    },
    {
     "name": "stdout",
     "output_type": "stream",
     "text": [
      "Type II Analysis of Variance Table with Satterthwaite's method\n",
      "                       Sum Sq Mean Sq NumDF DenDF   F value    Pr(>F)    \n",
      "trt                    885.44  885.44     1 27667 3225.1350 < 2.2e-16 ***\n",
      "query_type            1100.43 1100.43     1 27667 4008.2110 < 2.2e-16 ***\n",
      "engine                  33.63   33.63     1 27667  122.5057 < 2.2e-16 ***\n",
      "region                   0.85    0.85     1 27667    3.0856  0.078999 .  \n",
      "browser                  0.00    0.00     1 27667    0.0126  0.910568    \n",
      "trt:query_type         566.56  566.56     1 27667 2063.6471 < 2.2e-16 ***\n",
      "trt:engine               0.08    0.08     1 27667    0.3081  0.578824    \n",
      "query_type:engine        1.85    1.85     1 27667    6.7495  0.009383 ** \n",
      "trt:query_type:engine   99.43   99.43     1 27667  362.1559 < 2.2e-16 ***\n",
      "---\n",
      "Signif. codes:  0 ‘***’ 0.001 ‘**’ 0.01 ‘*’ 0.05 ‘.’ 0.1 ‘ ’ 1\n",
      "Linear mixed model fit by REML. t-tests use Satterthwaite's method ['lmerModLmerTest']\n",
      "Formula: valence ~ trt * query_type * engine + region + browser + (day |      id)\n",
      "   Data: df\n",
      "\n",
      "REML criterion at convergence: 42834.9\n",
      "\n",
      "Scaled residuals: \n",
      "    Min      1Q  Median      3Q     Max \n",
      "-2.4884 -0.5587 -0.4481  0.9669  2.8754 \n",
      "\n",
      "Random effects:\n",
      " Groups   Name        Variance  Std.Dev.     Corr\n",
      " id       (Intercept) 0.000e+00 0.0000000000     \n",
      "          day         1.833e-13 0.0000004281  NaN\n",
      " Residual             2.745e-01 0.5239703901     \n",
      "Number of obs: 27677, groups:  id, 240\n",
      "\n",
      "Fixed effects:\n",
      "                                                     Estimate    Std. Error            df t value Pr(>|t|)    \n",
      "(Intercept)                                         0.2600747     0.0102665 27666.9977521  25.332  < 2e-16 ***\n",
      "trtbenefits                                         0.1942323     0.0128933 27666.9999998  15.065  < 2e-16 ***\n",
      "query_typetechnology                               -0.5849343     0.0128933 27666.9999998 -45.367  < 2e-16 ***\n",
      "enginesemantic                                      0.0438006     0.0129842 27666.9992156   3.373 0.000744 ***\n",
      "regionoh                                           -0.0111280     0.0063350 27666.9866541  -1.757 0.078999 .  \n",
      "browserfirefox                                     -0.0007089     0.0063116 27666.9867333  -0.112 0.910568    \n",
      "trtbenefits:query_typetechnology                    0.3242200     0.0181565 27666.9999998  17.857  < 2e-16 ***\n",
      "trtbenefits:enginesemantic                         -0.2521656     0.0180304 27666.9999998 -13.986  < 2e-16 ***\n",
      "query_typetechnology:enginesemantic                -0.2137087     0.0180787 27666.9999999 -11.821  < 2e-16 ***\n",
      "trtbenefits:query_typetechnology:enginesemantic     0.4802327     0.0252350 27666.9999997  19.030  < 2e-16 ***\n",
      "---\n",
      "Signif. codes:  0 ‘***’ 0.001 ‘**’ 0.01 ‘*’ 0.05 ‘.’ 0.1 ‘ ’ 1\n",
      "\n",
      "Correlation of Fixed Effects:\n",
      "            (Intr) trtbnf qry_ty engnsm reginh brwsrf trtb:_ trtbn: qry_t:\n",
      "trtbenefits -0.639                                                        \n",
      "qry_typtchn -0.639  0.508                                                 \n",
      "enginesmntc -0.640  0.505  0.505                                          \n",
      "regionoh    -0.342  0.000  0.000  0.034                                   \n",
      "browserfrfx -0.272  0.000  0.000 -0.020 -0.039                            \n",
      "trtbnfts:q_  0.453 -0.710 -0.710 -0.359  0.000  0.000                     \n",
      "trtbnfts:ng  0.456 -0.715 -0.364 -0.719  0.001  0.000  0.508              \n",
      "qry_typtch:  0.455 -0.363 -0.713 -0.717  0.000  0.001  0.506  0.516       \n",
      "trtbnfts:_: -0.326  0.511  0.511  0.514  0.000  0.000 -0.719 -0.714 -0.716\n",
      "optimizer (nloptwrap) convergence code: 0 (OK)\n",
      "boundary (singular) fit: see help('isSingular')\n",
      "\n"
     ]
    }
   ],
   "source": [
    "options(width = 10000, scipen=4)\n",
    "\n",
    "fit <- lmer(valence ~   trt * query_type * engine + region + browser + (day|id) ,  data = df)\n",
    "\n",
    "\n",
    "print(anova(fit, type='II'))\n",
    "print(summary(fit))\n",
    "\n"
   ]
  },
  {
   "attachments": {},
   "cell_type": "markdown",
   "id": "184b070d-c826-49eb-8193-a5e0429b8cd5",
   "metadata": {
    "vscode": {
     "languageId": "r"
    }
   },
   "source": [
    "# Contrasts for Treatment: Risks vs Benefits"
   ]
  },
  {
   "cell_type": "code",
   "execution_count": 5,
   "id": "fc7ff4d0",
   "metadata": {
    "vscode": {
     "languageId": "r"
    }
   },
   "outputs": [
    {
     "data": {
      "text/plain": [
       " engine   query_type trt_pairwise     estimate     SE  df asymp.LCL asymp.UCL z.ratio p.value\n",
       " google   health     risks - benefits  -0.1942 0.0129 Inf   -0.2264   -0.1620 -15.065  <.0001\n",
       " semantic health     risks - benefits   0.0579 0.0126 Inf    0.0265    0.0894   4.596  <.0001\n",
       " google   technology risks - benefits  -0.5185 0.0128 Inf   -0.5504   -0.4865 -40.556  <.0001\n",
       " semantic technology risks - benefits  -0.7465 0.0122 Inf   -0.7769   -0.7161 -61.303  <.0001\n",
       "\n",
       "Results are averaged over some or all of the levels of: region, browser \n",
       "Degrees-of-freedom method: asymptotic \n",
       "Confidence level used: 0.95 \n",
       "Conf-level adjustment: bonferroni method for 4 estimates \n",
       "P value adjustment: bonferroni method for 4 tests "
      ]
     },
     "metadata": {},
     "output_type": "display_data"
    }
   ],
   "source": [
    "# asymptotic is used for approximations because other methods (\"kenward-roger\", \"satterthwaite\") are \n",
    "# computationally too expensive\n",
    "# https://link.springer.com/article/10.3758/s13428-016-0809-y\n",
    "\n",
    "\n",
    "the_means <- emmeans(fit, ~  trt |(engine:query_type), lmer.df = \"asymptotic\")\n",
    "contrast_trt <- pairs(the_means)\n",
    "# print(contrast_trt)\n",
    "\n",
    "\n",
    "# create dataframe of contrasts\n",
    "em <- pairs(the_means, interaction = \"pairwise\", infer = c(TRUE, TRUE)) %>%  rbind() \n",
    "\n",
    "# bonferroni method for 16 tests \n",
    "em"
   ]
  },
  {
   "cell_type": "code",
   "execution_count": 6,
   "id": "6ce9b497",
   "metadata": {
    "vscode": {
     "languageId": "r"
    }
   },
   "outputs": [
    {
     "name": "stderr",
     "output_type": "stream",
     "text": [
      "Warning message:\n",
      "“\u001b[1m\u001b[22mThere was 1 warning in `mutate()`.\n",
      "\u001b[1m\u001b[22m\u001b[36mℹ\u001b[39m In argument: `across(where(is.numeric), round, 4)`.\n",
      "Caused by warning:\n",
      "\u001b[1m\u001b[22m\u001b[33m!\u001b[39m The `...` argument of `across()` is deprecated as of dplyr 1.1.0.\n",
      "Supply arguments directly to `.fns` through an anonymous function instead.\n",
      "\n",
      "  # Previously\n",
      "  across(a:b, mean, na.rm = TRUE)\n",
      "\n",
      "  # Now\n",
      "  across(a:b, \\(x) mean(x, na.rm = TRUE))”\n"
     ]
    },
    {
     "name": "stdout",
     "output_type": "stream",
     "text": [
      "    engine query_type      trt  emmean     SE  df asymp.LCL asymp.UCL\n",
      "1 semantic     health    risks  0.2980 0.0092 Inf    0.2729    0.3230\n",
      "2 semantic     health benefits  0.2400 0.0087 Inf    0.2163    0.2637\n",
      "3 semantic technology    risks -0.5007 0.0088 Inf   -0.5246   -0.4767\n",
      "4 semantic technology benefits  0.2458 0.0085 Inf    0.2227    0.2690\n",
      "5   google     health    risks  0.2542 0.0092 Inf    0.2290    0.2793\n",
      "6   google     health benefits  0.4484 0.0091 Inf    0.4236    0.4731\n",
      "7   google technology    risks -0.3308 0.0091 Inf   -0.3555   -0.3060\n",
      "8   google technology benefits  0.1877 0.0091 Inf    0.1629    0.2124\n"
     ]
    }
   ],
   "source": [
    "print (the_means %>%  rbind() %>% as.data.frame() \n",
    "       %>% arrange(desc(engine))  %>% mutate(across(where(is.numeric), round, 4)))\n",
    "     "
   ]
  },
  {
   "cell_type": "code",
   "execution_count": 7,
   "id": "c8a8378e",
   "metadata": {
    "vscode": {
     "languageId": "r"
    }
   },
   "outputs": [
    {
     "name": "stdout",
     "output_type": "stream",
     "text": [
      "    engine query_type     trt_pairwise estimate     SE  df asymp.LCL asymp.UCL  z.ratio p.value sig\n",
      "1   google technology risks - benefits  -0.5185 0.0128 Inf   -0.5504   -0.4865 -40.5562  <0.001 ***\n",
      "2   google     health risks - benefits  -0.1942 0.0129 Inf   -0.2264   -0.1620 -15.0646  <0.001 ***\n",
      "3 semantic technology risks - benefits  -0.7465 0.0122 Inf   -0.7769   -0.7161 -61.3031  <0.001 ***\n",
      "4 semantic     health risks - benefits   0.0579 0.0126 Inf    0.0265    0.0894   4.5964  <0.001 ***\n"
     ]
    }
   ],
   "source": [
    "\n",
    "\n",
    "# convert to data frame and sort\n",
    "emdf <-  as.data.frame(em) %>% arrange(engine, desc(query_type))\n",
    "\n",
    "# add significative starts\n",
    "emdf['sig'] <- makeStars(emdf$p.value)\n",
    "\n",
    "# restrict p-values decimals and add <0.0001 where correspond\n",
    "emdf[,\"p.value\"] <- pvalue(emdf[,\"p.value\"], accuracy = 0.001)\n",
    "\n",
    "# round all values to 4 decimals\n",
    "embf <- emdf %>% mutate(across(where(is.numeric), round, 4))\n",
    "\n",
    "print(embf)\n",
    "     \n"
   ]
  },
  {
   "attachments": {},
   "cell_type": "markdown",
   "id": "e6b9ee8b",
   "metadata": {},
   "source": [
    "# Contrasts for Treatment: Health vs Technology"
   ]
  },
  {
   "cell_type": "code",
   "execution_count": 8,
   "id": "1f665c3b",
   "metadata": {
    "vscode": {
     "languageId": "r"
    }
   },
   "outputs": [
    {
     "data": {
      "text/plain": [
       " engine   trt      query_type_pairwise estimate     SE  df asymp.LCL asymp.UCL z.ratio p.value\n",
       " google   risks    health - technology  0.58493 0.0129 Inf     0.553    0.6171  45.367  <.0001\n",
       " semantic risks    health - technology  0.79864 0.0127 Inf     0.767    0.8303  63.020  <.0001\n",
       " google   benefits health - technology  0.26071 0.0128 Inf     0.229    0.2926  20.394  <.0001\n",
       " semantic benefits health - technology -0.00581 0.0121 Inf    -0.036    0.0244  -0.480  1.0000\n",
       "\n",
       "Results are averaged over some or all of the levels of: region, browser \n",
       "Degrees-of-freedom method: asymptotic \n",
       "Confidence level used: 0.95 \n",
       "Conf-level adjustment: bonferroni method for 4 estimates \n",
       "P value adjustment: bonferroni method for 4 tests "
      ]
     },
     "metadata": {},
     "output_type": "display_data"
    }
   ],
   "source": [
    "# asymptotic is used for approximations because other methods (\"kenward-roger\", \"satterthwaite\") are \n",
    "# computationally too expensive\n",
    "# https://link.springer.com/article/10.3758/s13428-016-0809-y\n",
    "\n",
    "\n",
    "the_means <- emmeans(fit, ~  query_type |(engine:trt), lmer.df = \"asymptotic\")\n",
    "contrast_trt <- pairs(the_means)\n",
    "# print(contrast_trt)\n",
    "\n",
    "\n",
    "# create dataframe of contrasts\n",
    "em <- pairs(the_means, interaction = \"pairwise\", infer = c(TRUE, TRUE)) %>%  rbind() \n",
    "\n",
    "# bonferroni method for 16 tests \n",
    "em"
   ]
  },
  {
   "cell_type": "code",
   "execution_count": 9,
   "id": "b1230576",
   "metadata": {
    "vscode": {
     "languageId": "r"
    }
   },
   "outputs": [
    {
     "name": "stdout",
     "output_type": "stream",
     "text": [
      "    engine      trt query_type  emmean     SE  df asymp.LCL asymp.UCL\n",
      "1 semantic    risks     health  0.2980 0.0092 Inf    0.2729    0.3230\n",
      "2 semantic    risks technology -0.5007 0.0088 Inf   -0.5246   -0.4767\n",
      "3 semantic benefits     health  0.2400 0.0087 Inf    0.2163    0.2637\n",
      "4 semantic benefits technology  0.2458 0.0085 Inf    0.2227    0.2690\n",
      "5   google    risks     health  0.2542 0.0092 Inf    0.2290    0.2793\n",
      "6   google    risks technology -0.3308 0.0091 Inf   -0.3555   -0.3060\n",
      "7   google benefits     health  0.4484 0.0091 Inf    0.4236    0.4731\n",
      "8   google benefits technology  0.1877 0.0091 Inf    0.1629    0.2124\n"
     ]
    }
   ],
   "source": [
    "print (the_means %>%  rbind() %>% as.data.frame() \n",
    "       %>% arrange(desc(engine))  %>% mutate(across(where(is.numeric), round, 4)))"
   ]
  },
  {
   "cell_type": "code",
   "execution_count": 10,
   "id": "218b6198",
   "metadata": {
    "vscode": {
     "languageId": "r"
    }
   },
   "outputs": [
    {
     "name": "stdout",
     "output_type": "stream",
     "text": [
      "    engine      trt query_type_pairwise estimate     SE  df asymp.LCL asymp.UCL z.ratio p.value sig\n",
      "1   google benefits health - technology   0.2607 0.0128 Inf    0.2288    0.2926 20.3945  <0.001 ***\n",
      "2 semantic benefits health - technology  -0.0058 0.0121 Inf   -0.0360    0.0244 -0.4799  >0.999    \n",
      "3   google    risks health - technology   0.5849 0.0129 Inf    0.5527    0.6171 45.3673  <0.001 ***\n",
      "4 semantic    risks health - technology   0.7986 0.0127 Inf    0.7670    0.8303 63.0199  <0.001 ***\n"
     ]
    }
   ],
   "source": [
    "# convert to data frame and sort\n",
    "emdf <-  as.data.frame(em) %>% arrange(trt, engine)\n",
    "\n",
    "# add significative starts\n",
    "emdf['sig'] <- makeStars(emdf$p.value)\n",
    "\n",
    "# restrict p-values decimals and add <0.0001 where correspond\n",
    "emdf[,\"p.value\"] <- pvalue(emdf[,\"p.value\"], accuracy = 0.001)\n",
    "\n",
    "# round all values to 4 decimals\n",
    "embf <- emdf %>% mutate(across(where(is.numeric), round, 4))\n",
    "\n",
    "print(embf)"
   ]
  },
  {
   "attachments": {},
   "cell_type": "markdown",
   "id": "9e719ac2",
   "metadata": {},
   "source": [
    "# Contrasts for Treatment: Google vs Semantic Scholar"
   ]
  },
  {
   "cell_type": "code",
   "execution_count": 11,
   "id": "c701e433",
   "metadata": {
    "vscode": {
     "languageId": "r"
    }
   },
   "outputs": [
    {
     "data": {
      "text/plain": [
       " trt      query_type engine_pairwise   estimate     SE  df asymp.LCL asymp.UCL z.ratio p.value\n",
       " risks    health     google - semantic  -0.0438 0.0130 Inf   -0.0762   -0.0114  -3.373  0.0030\n",
       " benefits health     google - semantic   0.2084 0.0125 Inf    0.1771    0.2397  16.628  <.0001\n",
       " risks    technology google - semantic   0.1699 0.0126 Inf    0.1384    0.2014  13.485  <.0001\n",
       " benefits technology google - semantic  -0.0582 0.0124 Inf   -0.0891   -0.0272  -4.695  <.0001\n",
       "\n",
       "Results are averaged over some or all of the levels of: region, browser \n",
       "Degrees-of-freedom method: asymptotic \n",
       "Confidence level used: 0.95 \n",
       "Conf-level adjustment: bonferroni method for 4 estimates \n",
       "P value adjustment: bonferroni method for 4 tests "
      ]
     },
     "metadata": {},
     "output_type": "display_data"
    }
   ],
   "source": [
    "# asymptotic is used for approximations because other methods (\"kenward-roger\", \"satterthwaite\") are \n",
    "# computationally too expensive\n",
    "# https://link.springer.com/article/10.3758/s13428-016-0809-y\n",
    "\n",
    "\n",
    "the_means <- emmeans(fit, ~  engine |(trt:query_type), lmer.df = \"asymptotic\")\n",
    "contrast_trt <- pairs(the_means)\n",
    "# print(contrast_trt)\n",
    "\n",
    "\n",
    "# create dataframe of contrasts\n",
    "em <- pairs(the_means, interaction = \"pairwise\", infer = c(TRUE, TRUE)) %>%  rbind() \n",
    "\n",
    "# bonferroni method for 16 tests \n",
    "em"
   ]
  },
  {
   "cell_type": "code",
   "execution_count": 12,
   "id": "07468466",
   "metadata": {
    "vscode": {
     "languageId": "r"
    }
   },
   "outputs": [
    {
     "name": "stdout",
     "output_type": "stream",
     "text": [
      "       trt query_type   engine  emmean     SE  df asymp.LCL asymp.UCL\n",
      "1    risks     health semantic  0.2980 0.0092 Inf    0.2729    0.3230\n",
      "2 benefits     health semantic  0.2400 0.0087 Inf    0.2163    0.2637\n",
      "3    risks technology semantic -0.5007 0.0088 Inf   -0.5246   -0.4767\n",
      "4 benefits technology semantic  0.2458 0.0085 Inf    0.2227    0.2690\n",
      "5    risks     health   google  0.2542 0.0092 Inf    0.2290    0.2793\n",
      "6 benefits     health   google  0.4484 0.0091 Inf    0.4236    0.4731\n",
      "7    risks technology   google -0.3308 0.0091 Inf   -0.3555   -0.3060\n",
      "8 benefits technology   google  0.1877 0.0091 Inf    0.1629    0.2124\n"
     ]
    }
   ],
   "source": [
    "print (the_means %>%  rbind() %>% as.data.frame() \n",
    "       %>% arrange(desc(engine))  %>% mutate(across(where(is.numeric), round, 4)))\n",
    "     "
   ]
  },
  {
   "cell_type": "code",
   "execution_count": 13,
   "id": "92fbafeb",
   "metadata": {
    "vscode": {
     "languageId": "r"
    }
   },
   "outputs": [
    {
     "name": "stdout",
     "output_type": "stream",
     "text": [
      "       trt query_type   engine_pairwise estimate     SE  df asymp.LCL asymp.UCL z.ratio p.value sig\n",
      "1 benefits     health google - semantic   0.2084 0.0125 Inf    0.1771    0.2397 16.6275  <0.001 ***\n",
      "2 benefits technology google - semantic  -0.0582 0.0124 Inf   -0.0891   -0.0272 -4.6947  <0.001 ***\n",
      "3    risks     health google - semantic  -0.0438 0.0130 Inf   -0.0762   -0.0114 -3.3734   0.003  **\n",
      "4    risks technology google - semantic   0.1699 0.0126 Inf    0.1384    0.2014 13.4849  <0.001 ***\n"
     ]
    }
   ],
   "source": [
    "# convert to data frame and sort\n",
    "emdf <-  as.data.frame(em) %>% arrange(trt, query_type)\n",
    "\n",
    "# add significative starts\n",
    "emdf['sig'] <- makeStars(emdf$p.value)\n",
    "\n",
    "# restrict p-values decimals and add <0.0001 where correspond\n",
    "emdf[,\"p.value\"] <- pvalue(emdf[,\"p.value\"], accuracy = 0.001)\n",
    "\n",
    "# round all values to 4 decimals\n",
    "embf <- emdf %>% mutate(across(where(is.numeric), round, 4))\n",
    "\n",
    "print(embf)"
   ]
  }
 ],
 "metadata": {
  "kernelspec": {
   "display_name": "R",
   "language": "R",
   "name": "ir"
  },
  "language_info": {
   "codemirror_mode": "r",
   "file_extension": ".r",
   "mimetype": "text/x-r-source",
   "name": "R",
   "pygments_lexer": "r",
   "version": "4.3.2"
  }
 },
 "nbformat": 4,
 "nbformat_minor": 5
}
