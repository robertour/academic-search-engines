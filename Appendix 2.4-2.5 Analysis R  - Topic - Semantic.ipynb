{
 "cells": [
  {
   "cell_type": "code",
   "execution_count": 2,
   "id": "61bb94d1-b934-49e0-8d29-0ac9f9d5c268",
   "metadata": {
    "tags": [],
    "vscode": {
     "languageId": "r"
    }
   },
   "outputs": [],
   "source": [
    "# install.packages(\"markdown\")\n",
    "library(knitr)\n",
    "\n",
    "\n",
    "# Loading\n",
    "library(dplyr)\n",
    "\n",
    "# to get R2 in lmer\n",
    "# library(sjstats)\n",
    "# library(sjPlot)\n",
    "\n",
    "\n",
    "# fit and test linear mixed models\n",
    "library(lme4)\n",
    "library(lmerTest)\n",
    "\n",
    "# contrasts\n",
    "# install.packages(\"pbkrtest\")\n",
    "library(emmeans)\n",
    "\n",
    "# function pvalue is here\n",
    "library(scales)\n",
    "\n",
    "# code to add *, ** and *** for significances\n",
    "makeStars <- function(x){\n",
    "  stars <- c(\"***\", \"**\", \"*\", \"\")\n",
    "  vec <- c(0, 0.001, 0.01, 0.05, 1.1)\n",
    "  i <- findInterval(x, vec)\n",
    "  stars[i]\n",
    "}\n",
    "\n",
    "# xlsx files\n",
    "df <- read.csv(\"data/main.csv\")\n",
    "\n",
    "df <- df[df['engine']=='semantic',]"
   ]
  },
  {
   "attachments": {},
   "cell_type": "markdown",
   "id": "7b706ae0",
   "metadata": {},
   "source": [
    "# Factorization"
   ]
  },
  {
   "cell_type": "code",
   "execution_count": 3,
   "id": "5ed92374-aeea-47f4-8bc2-3dde83caff27",
   "metadata": {
    "tags": [],
    "vscode": {
     "languageId": "r"
    }
   },
   "outputs": [],
   "source": [
    "# factorize topics\n",
    "df$region <- as.factor(df$region)\n",
    "df$browser <- as.factor(df$browser)\n",
    "df$id <- as.factor(df$id)\n",
    "\n",
    "df$topic <- as.factor(df$topic)\n",
    "df$trt <- factor(df$trt, levels = c('risks', 'benefits'))\n"
   ]
  },
  {
   "attachments": {},
   "cell_type": "markdown",
   "id": "8b5bcdfa",
   "metadata": {},
   "source": [
    "# Full Analisys"
   ]
  },
  {
   "cell_type": "code",
   "execution_count": 4,
   "id": "20ce7b2a",
   "metadata": {
    "vscode": {
     "languageId": "r"
    }
   },
   "outputs": [
    {
     "name": "stderr",
     "output_type": "stream",
     "text": [
      "boundary (singular) fit: see help('isSingular')\n",
      "\n"
     ]
    },
    {
     "name": "stdout",
     "output_type": "stream",
     "text": [
      "Type II Analysis of Variance Table with Satterthwaite's method\n",
      "          Sum Sq Mean Sq NumDF DenDF   F value Pr(>F)    \n",
      "trt       453.33  453.33     1 14335 1649.8787 <2e-16 ***\n",
      "topic     686.82  137.36     5 14335  499.9312 <2e-16 ***\n",
      "region      0.00    0.00     1 14335    0.0024 0.9610    \n",
      "browser     0.00    0.00     1 14335    0.0003 0.9864    \n",
      "trt:topic 668.97  133.79     5 14335  486.9420 <2e-16 ***\n",
      "---\n",
      "Signif. codes:  0 ‘***’ 0.001 ‘**’ 0.01 ‘*’ 0.05 ‘.’ 0.1 ‘ ’ 1\n",
      "Linear mixed model fit by REML. t-tests use Satterthwaite's method ['lmerModLmerTest']\n",
      "Formula: valence ~ trt * topic + region + browser + (day | id)\n",
      "   Data: df\n",
      "\n",
      "REML criterion at convergence: 22263.8\n",
      "\n",
      "Scaled residuals: \n",
      "    Min      1Q  Median      3Q     Max \n",
      "-2.3322 -0.6362 -0.3818  1.0728  2.5442 \n",
      "\n",
      "Random effects:\n",
      " Groups   Name        Variance  Std.Dev.  Corr\n",
      " id       (Intercept) 0.000e+00 0.000e+00     \n",
      "          day         1.612e-15 4.015e-08  NaN\n",
      " Residual             2.748e-01 5.242e-01     \n",
      "Number of obs: 14349, groups:  id, 128\n",
      "\n",
      "Fixed effects:\n",
      "                                    Estimate Std. Error         df t value Pr(>|t|)    \n",
      "(Intercept)                        2.219e-01  1.763e-02  1.433e+04  12.586  < 2e-16 ***\n",
      "trtbenefits                        1.111e-01  2.287e-02  1.433e+04   4.859 1.19e-06 ***\n",
      "topiccovid vaccines                1.111e-01  2.261e-02  1.433e+04   4.915 8.98e-07 ***\n",
      "topiccryptocurrencies             -8.898e-01  2.261e-02  1.433e+04 -39.357  < 2e-16 ***\n",
      "topicinternet                     -7.222e-01  2.207e-02  1.433e+04 -32.719  < 2e-16 ***\n",
      "topicsocial media                 -5.556e-01  2.265e-02  1.433e+04 -24.529  < 2e-16 ***\n",
      "topicvaccines                      1.075e-01  2.278e-02  1.433e+04   4.721 2.37e-06 ***\n",
      "regionoh                           4.274e-04  8.752e-03  1.433e+04   0.049    0.961    \n",
      "browserfirefox                     1.492e-04  8.752e-03  1.433e+04   0.017    0.986    \n",
      "trtbenefits:topiccovid vaccines   -4.444e-01  3.124e-02  1.433e+04 -14.226  < 2e-16 ***\n",
      "trtbenefits:topiccryptocurrencies  7.564e-01  3.124e-02  1.433e+04  24.213  < 2e-16 ***\n",
      "trtbenefits:topicinternet          4.889e-01  3.086e-02  1.433e+04  15.844  < 2e-16 ***\n",
      "trtbenefits:topicsocial media      6.597e-01  3.127e-02  1.433e+04  21.097  < 2e-16 ***\n",
      "trtbenefits:topicvaccines         -4.085e-02  3.136e-02  1.433e+04  -1.303    0.193    \n",
      "---\n",
      "Signif. codes:  0 ‘***’ 0.001 ‘**’ 0.01 ‘*’ 0.05 ‘.’ 0.1 ‘ ’ 1\n"
     ]
    },
    {
     "name": "stderr",
     "output_type": "stream",
     "text": [
      "\n",
      "Correlation matrix not shown by default, as p = 14 > 12.\n",
      "Use print(summary(fit), correlation=TRUE)  or\n",
      "    vcov(summary(fit))        if you need it\n",
      "\n",
      "\n"
     ]
    },
    {
     "name": "stdout",
     "output_type": "stream",
     "text": [
      "optimizer (nloptwrap) convergence code: 0 (OK)\n",
      "boundary (singular) fit: see help('isSingular')\n",
      "\n"
     ]
    }
   ],
   "source": [
    "options(width = 10000)\n",
    "\n",
    "fit <- lmer(valence ~   trt * topic + region + browser + (day|id),  data = df)\n",
    "\n",
    "print(anova(fit, type='II'))\n",
    "print(summary(fit))\n"
   ]
  },
  {
   "attachments": {},
   "cell_type": "markdown",
   "id": "184b070d-c826-49eb-8193-a5e0429b8cd5",
   "metadata": {
    "vscode": {
     "languageId": "r"
    }
   },
   "source": [
    "# Contrasts for Treatment: Risks vs Benefits"
   ]
  },
  {
   "cell_type": "code",
   "execution_count": 5,
   "id": "fc7ff4d0",
   "metadata": {
    "vscode": {
     "languageId": "r"
    }
   },
   "outputs": [
    {
     "data": {
      "text/plain": [
       " topic            trt_pairwise     estimate     SE  df asymp.LCL asymp.UCL z.ratio p.value\n",
       " coffee           risks - benefits  -0.1111 0.0229 Inf    -0.171   -0.0508  -4.859  <.0001\n",
       " covid vaccines   risks - benefits   0.3333 0.0213 Inf     0.277    0.3895  15.658  <.0001\n",
       " cryptocurrencies risks - benefits  -0.8675 0.0213 Inf    -0.924   -0.8114 -40.753  <.0001\n",
       " internet         risks - benefits  -0.6000 0.0207 Inf    -0.655   -0.5453 -28.958  <.0001\n",
       " social media     risks - benefits  -0.7708 0.0213 Inf    -0.827   -0.7146 -36.135  <.0001\n",
       " vaccines         risks - benefits  -0.0703 0.0215 Inf    -0.127   -0.0136  -3.273  0.0064\n",
       "\n",
       "Results are averaged over some or all of the levels of: region, browser \n",
       "Degrees-of-freedom method: asymptotic \n",
       "Confidence level used: 0.95 \n",
       "Conf-level adjustment: bonferroni method for 6 estimates \n",
       "P value adjustment: bonferroni method for 6 tests "
      ]
     },
     "metadata": {},
     "output_type": "display_data"
    }
   ],
   "source": [
    "# asymptotic is used for approximations because other methods (\"kenward-roger\", \"satterthwaite\") are \n",
    "# computationally too expensive\n",
    "# https://link.springer.com/article/10.3758/s13428-016-0809-y\n",
    "\n",
    "\n",
    "the_means <- emmeans(fit, ~  trt |(topic), lmer.df = \"asymptotic\")\n",
    "contrast_trt <- pairs(the_means)\n",
    "# print(contrast_trt)\n",
    "\n",
    "\n",
    "# create dataframe of contrasts\n",
    "em <- pairs(the_means, interaction = \"pairwise\", infer = c(TRUE, TRUE)) %>%  rbind() \n",
    "\n",
    "# bonferroni method for 16 tests \n",
    "em"
   ]
  },
  {
   "cell_type": "code",
   "execution_count": 6,
   "id": "6ce9b497",
   "metadata": {
    "vscode": {
     "languageId": "r"
    }
   },
   "outputs": [
    {
     "name": "stderr",
     "output_type": "stream",
     "text": [
      "Warning message:\n",
      "“\u001b[1m\u001b[22mThere was 1 warning in `mutate()`.\n",
      "\u001b[1m\u001b[22m\u001b[36mℹ\u001b[39m In argument: `across(where(is.numeric), round, 4)`.\n",
      "Caused by warning:\n",
      "\u001b[1m\u001b[22m\u001b[33m!\u001b[39m The `...` argument of `across()` is deprecated as of dplyr 1.1.0.\n",
      "Supply arguments directly to `.fns` through an anonymous function instead.\n",
      "\n",
      "  # Previously\n",
      "  across(a:b, mean, na.rm = TRUE)\n",
      "\n",
      "  # Now\n",
      "  across(a:b, \\(x) mean(x, na.rm = TRUE))”\n"
     ]
    },
    {
     "name": "stdout",
     "output_type": "stream",
     "text": [
      "              topic      trt  emmean     SE  df asymp.LCL asymp.UCL\n",
      "1            coffee    risks  0.2222 0.0165 Inf    0.1749    0.2695\n",
      "2            coffee benefits  0.3333 0.0158 Inf    0.2880    0.3787\n",
      "3    covid vaccines    risks  0.3333 0.0154 Inf    0.2891    0.3776\n",
      "4    covid vaccines benefits  0.0000 0.0147 Inf   -0.0420    0.0420\n",
      "5  cryptocurrencies    risks -0.6675 0.0154 Inf   -0.7118   -0.6233\n",
      "6  cryptocurrencies benefits  0.2000 0.0147 Inf    0.1580    0.2420\n",
      "7          internet    risks -0.5000 0.0147 Inf   -0.5420   -0.4580\n",
      "8          internet benefits  0.1000 0.0147 Inf    0.0580    0.1420\n",
      "9      social media    risks -0.3333 0.0155 Inf   -0.3778   -0.2889\n",
      "10     social media benefits  0.4375 0.0147 Inf    0.3955    0.4795\n",
      "11         vaccines    risks  0.3297 0.0157 Inf    0.2848    0.3747\n",
      "12         vaccines benefits  0.4000 0.0147 Inf    0.3580    0.4420\n"
     ]
    }
   ],
   "source": [
    "print (the_means %>%  rbind() %>% as.data.frame() \n",
    "        %>% mutate(across(where(is.numeric), round, 4)))\n",
    "     "
   ]
  },
  {
   "cell_type": "code",
   "execution_count": 7,
   "id": "c8a8378e",
   "metadata": {
    "vscode": {
     "languageId": "r"
    }
   },
   "outputs": [
    {
     "name": "stdout",
     "output_type": "stream",
     "text": [
      "             topic     trt_pairwise estimate     SE  df asymp.LCL asymp.UCL  z.ratio p.value sig\n",
      "1         vaccines risks - benefits  -0.0703 0.0215 Inf   -0.1269   -0.0136  -3.2726   0.006  **\n",
      "2     social media risks - benefits  -0.7708 0.0213 Inf   -0.8271   -0.7146 -36.1353  <0.001 ***\n",
      "3         internet risks - benefits  -0.6000 0.0207 Inf   -0.6547   -0.5453 -28.9575  <0.001 ***\n",
      "4 cryptocurrencies risks - benefits  -0.8675 0.0213 Inf   -0.9237   -0.8114 -40.7527  <0.001 ***\n",
      "5   covid vaccines risks - benefits   0.3333 0.0213 Inf    0.2772    0.3895  15.6584  <0.001 ***\n",
      "6           coffee risks - benefits  -0.1111 0.0229 Inf   -0.1714   -0.0508  -4.8593  <0.001 ***\n"
     ]
    }
   ],
   "source": [
    "# convert to data frame and sort\n",
    "emdf <-  as.data.frame(em) %>% arrange(desc(topic))\n",
    "\n",
    "# add significative starts\n",
    "emdf['sig'] <- makeStars(emdf$p.value)\n",
    "\n",
    "# restrict p-values decimals and add <0.0001 where correspond\n",
    "emdf[,\"p.value\"] <- pvalue(emdf[,\"p.value\"], accuracy = 0.001)\n",
    "\n",
    "# round all values to 4 decimals\n",
    "embf <- emdf %>% mutate(across(where(is.numeric), round, 4))\n",
    "\n",
    "print(embf)\n",
    "     \n"
   ]
  },
  {
   "attachments": {},
   "cell_type": "markdown",
   "id": "e6b9ee8b",
   "metadata": {},
   "source": [
    "# Contrasts for Treatment: Health vs Technology"
   ]
  },
  {
   "cell_type": "code",
   "execution_count": 8,
   "id": "1f665c3b",
   "metadata": {
    "vscode": {
     "languageId": "r"
    }
   },
   "outputs": [
    {
     "data": {
      "text/plain": [
       " trt      topic_pairwise                    estimate     SE  df asymp.LCL asymp.UCL z.ratio p.value\n",
       " risks    coffee - covid vaccines           -0.11111 0.0226 Inf   -0.1822  -0.04003  -4.915  <.0001\n",
       " risks    coffee - cryptocurrencies          0.88976 0.0226 Inf    0.8187   0.96083  39.357  <.0001\n",
       " risks    coffee - internet                  0.72222 0.0221 Inf    0.6528   0.79162  32.719  <.0001\n",
       " risks    coffee - social media              0.55556 0.0226 Inf    0.4843   0.62676  24.529  <.0001\n",
       " risks    coffee - vaccines                 -0.10752 0.0228 Inf   -0.1791  -0.03591  -4.721  0.0001\n",
       " risks    covid vaccines - cryptocurrencies  1.00087 0.0218 Inf    0.9322   1.06954  45.826  <.0001\n",
       " risks    covid vaccines - internet          0.83333 0.0213 Inf    0.7664   0.90026  39.146  <.0001\n",
       " risks    covid vaccines - social media      0.66667 0.0219 Inf    0.5979   0.73547  30.464  <.0001\n",
       " risks    covid vaccines - vaccines          0.00359 0.0220 Inf   -0.0656   0.07281   0.163  1.0000\n",
       " risks    cryptocurrencies - internet       -0.16753 0.0213 Inf   -0.2345  -0.10061  -7.870  <.0001\n",
       " risks    cryptocurrencies - social media   -0.33420 0.0219 Inf   -0.4030  -0.26540 -15.272  <.0001\n",
       " risks    cryptocurrencies - vaccines       -0.99728 0.0220 Inf   -1.0665  -0.92806 -45.297  <.0001\n",
       " risks    internet - social media           -0.16667 0.0213 Inf   -0.2337  -0.09960  -7.813  <.0001\n",
       " risks    internet - vaccines               -0.82974 0.0215 Inf   -0.8972  -0.76225 -38.650  <.0001\n",
       " risks    social media - vaccines           -0.66308 0.0221 Inf   -0.7324  -0.59373 -30.059  <.0001\n",
       " benefits coffee - covid vaccines            0.33333 0.0216 Inf    0.2655   0.40112  15.459  <.0001\n",
       " benefits coffee - cryptocurrencies          0.13333 0.0216 Inf    0.0655   0.20112   6.184  <.0001\n",
       " benefits coffee - internet                  0.23333 0.0216 Inf    0.1655   0.30112  10.822  <.0001\n",
       " benefits coffee - social media             -0.10417 0.0216 Inf   -0.1720  -0.03638  -4.831  <.0001\n",
       " benefits coffee - vaccines                 -0.06667 0.0216 Inf   -0.1345   0.00112  -3.092  0.0597\n",
       " benefits covid vaccines - cryptocurrencies -0.20000 0.0207 Inf   -0.2651  -0.13486  -9.653  <.0001\n",
       " benefits covid vaccines - internet         -0.10000 0.0207 Inf   -0.1651  -0.03486  -4.826  <.0001\n",
       " benefits covid vaccines - social media     -0.43750 0.0207 Inf   -0.5026  -0.37236 -21.115  <.0001\n",
       " benefits covid vaccines - vaccines         -0.40000 0.0207 Inf   -0.4651  -0.33486 -19.305  <.0001\n",
       " benefits cryptocurrencies - internet        0.10000 0.0207 Inf    0.0349   0.16514   4.826  <.0001\n",
       " benefits cryptocurrencies - social media   -0.23750 0.0207 Inf   -0.3026  -0.17236 -11.462  <.0001\n",
       " benefits cryptocurrencies - vaccines       -0.20000 0.0207 Inf   -0.2651  -0.13486  -9.653  <.0001\n",
       " benefits internet - social media           -0.33750 0.0207 Inf   -0.4026  -0.27236 -16.289  <.0001\n",
       " benefits internet - vaccines               -0.30000 0.0207 Inf   -0.3651  -0.23486 -14.479  <.0001\n",
       " benefits social media - vaccines            0.03750 0.0207 Inf   -0.0276   0.10264   1.810  1.0000\n",
       "\n",
       "Results are averaged over some or all of the levels of: region, browser \n",
       "Degrees-of-freedom method: asymptotic \n",
       "Confidence level used: 0.95 \n",
       "Conf-level adjustment: bonferroni method for 30 estimates \n",
       "P value adjustment: bonferroni method for 30 tests "
      ]
     },
     "metadata": {},
     "output_type": "display_data"
    }
   ],
   "source": [
    "# asymptotic is used for approximations because other methods (\"kenward-roger\", \"satterthwaite\") are \n",
    "# computationally too expensive\n",
    "# https://link.springer.com/article/10.3758/s13428-016-0809-y\n",
    "\n",
    "\n",
    "the_means <- emmeans(fit, ~  topic |(trt), lmer.df = \"asymptotic\")\n",
    "contrast_trt <- pairs(the_means)\n",
    "# print(contrast_trt)\n",
    "\n",
    "\n",
    "# create dataframe of contrasts\n",
    "em <- pairs(the_means, interaction = \"pairwise\", infer = c(TRUE, TRUE)) %>%  rbind() \n",
    "\n",
    "# bonferroni method for 16 tests \n",
    "em"
   ]
  },
  {
   "cell_type": "code",
   "execution_count": 9,
   "id": "b1230576",
   "metadata": {
    "vscode": {
     "languageId": "r"
    }
   },
   "outputs": [
    {
     "name": "stdout",
     "output_type": "stream",
     "text": [
      "        trt            topic  emmean     SE  df asymp.LCL asymp.UCL\n",
      "1     risks           coffee  0.2222 0.0165 Inf    0.1749    0.2695\n",
      "2     risks   covid vaccines  0.3333 0.0154 Inf    0.2891    0.3776\n",
      "3     risks cryptocurrencies -0.6675 0.0154 Inf   -0.7118   -0.6233\n",
      "4     risks         internet -0.5000 0.0147 Inf   -0.5420   -0.4580\n",
      "5     risks     social media -0.3333 0.0155 Inf   -0.3778   -0.2889\n",
      "6     risks         vaccines  0.3297 0.0157 Inf    0.2848    0.3747\n",
      "7  benefits           coffee  0.3333 0.0158 Inf    0.2880    0.3787\n",
      "8  benefits   covid vaccines  0.0000 0.0147 Inf   -0.0420    0.0420\n",
      "9  benefits cryptocurrencies  0.2000 0.0147 Inf    0.1580    0.2420\n",
      "10 benefits         internet  0.1000 0.0147 Inf    0.0580    0.1420\n",
      "11 benefits     social media  0.4375 0.0147 Inf    0.3955    0.4795\n",
      "12 benefits         vaccines  0.4000 0.0147 Inf    0.3580    0.4420\n"
     ]
    }
   ],
   "source": [
    "print (the_means %>%  rbind() %>% as.data.frame() \n",
    "         %>% mutate(across(where(is.numeric), round, 4)))\n",
    "     "
   ]
  },
  {
   "cell_type": "code",
   "execution_count": 10,
   "id": "218b6198",
   "metadata": {
    "vscode": {
     "languageId": "r"
    }
   },
   "outputs": [
    {
     "name": "stdout",
     "output_type": "stream",
     "text": [
      "        trt                    topic_pairwise estimate     SE  df asymp.LCL asymp.UCL  z.ratio p.value sig\n",
      "1  benefits           coffee - covid vaccines   0.3333 0.0216 Inf    0.2655    0.4011  15.4595  <0.001 ***\n",
      "2  benefits         coffee - cryptocurrencies   0.1333 0.0216 Inf    0.0655    0.2011   6.1838  <0.001 ***\n",
      "3  benefits                 coffee - internet   0.2333 0.0216 Inf    0.1655    0.3011  10.8216  <0.001 ***\n",
      "4  benefits             coffee - social media  -0.1042 0.0216 Inf   -0.1720   -0.0364  -4.8312  <0.001 ***\n",
      "5  benefits                 coffee - vaccines  -0.0667 0.0216 Inf   -0.1345    0.0011  -3.0920   0.060    \n",
      "6  benefits covid vaccines - cryptocurrencies  -0.2000 0.0207 Inf   -0.2651   -0.1349  -9.6525  <0.001 ***\n",
      "7  benefits         covid vaccines - internet  -0.1000 0.0207 Inf   -0.1651   -0.0349  -4.8263  <0.001 ***\n",
      "8  benefits     covid vaccines - social media  -0.4375 0.0207 Inf   -0.5026   -0.3724 -21.1149  <0.001 ***\n",
      "9  benefits         covid vaccines - vaccines  -0.4000 0.0207 Inf   -0.4651   -0.3349 -19.3050  <0.001 ***\n",
      "10 benefits       cryptocurrencies - internet   0.1000 0.0207 Inf    0.0349    0.1651   4.8263  <0.001 ***\n",
      "11 benefits   cryptocurrencies - social media  -0.2375 0.0207 Inf   -0.3026   -0.1724 -11.4624  <0.001 ***\n",
      "12 benefits       cryptocurrencies - vaccines  -0.2000 0.0207 Inf   -0.2651   -0.1349  -9.6525  <0.001 ***\n",
      "13 benefits           internet - social media  -0.3375 0.0207 Inf   -0.4026   -0.2724 -16.2886  <0.001 ***\n",
      "14 benefits               internet - vaccines  -0.3000 0.0207 Inf   -0.3651   -0.2349 -14.4788  <0.001 ***\n",
      "15 benefits           social media - vaccines   0.0375 0.0207 Inf   -0.0276    0.1026   1.8098  >0.999    \n",
      "16    risks           coffee - covid vaccines  -0.1111 0.0226 Inf   -0.1822   -0.0400  -4.9148  <0.001 ***\n",
      "17    risks         coffee - cryptocurrencies   0.8898 0.0226 Inf    0.8187    0.9608  39.3569  <0.001 ***\n",
      "18    risks                 coffee - internet   0.7222 0.0221 Inf    0.6528    0.7916  32.7189  <0.001 ***\n",
      "19    risks             coffee - social media   0.5556 0.0226 Inf    0.4843    0.6268  24.5291  <0.001 ***\n",
      "20    risks                 coffee - vaccines  -0.1075 0.0228 Inf   -0.1791   -0.0359  -4.7206  <0.001 ***\n",
      "21    risks covid vaccines - cryptocurrencies   1.0009 0.0218 Inf    0.9322    1.0695  45.8256  <0.001 ***\n",
      "22    risks         covid vaccines - internet   0.8333 0.0213 Inf    0.7664    0.9003  39.1461  <0.001 ***\n",
      "23    risks     covid vaccines - social media   0.6667 0.0219 Inf    0.5979    0.7355  30.4640  <0.001 ***\n",
      "24    risks         covid vaccines - vaccines   0.0036 0.0220 Inf   -0.0656    0.0728   0.1630  >0.999    \n",
      "25    risks       cryptocurrencies - internet  -0.1675 0.0213 Inf   -0.2345   -0.1006  -7.8700  <0.001 ***\n",
      "26    risks   cryptocurrencies - social media  -0.3342 0.0219 Inf   -0.4030   -0.2654 -15.2716  <0.001 ***\n",
      "27    risks       cryptocurrencies - vaccines  -0.9973 0.0220 Inf   -1.0665   -0.9281 -45.2970  <0.001 ***\n",
      "28    risks           internet - social media  -0.1667 0.0213 Inf   -0.2337   -0.0996  -7.8130  <0.001 ***\n",
      "29    risks               internet - vaccines  -0.8297 0.0215 Inf   -0.8972   -0.7622 -38.6504  <0.001 ***\n",
      "30    risks           social media - vaccines  -0.6631 0.0221 Inf   -0.7324   -0.5937 -30.0592  <0.001 ***\n"
     ]
    }
   ],
   "source": [
    "# convert to data frame and sort\n",
    "emdf <-  as.data.frame(em) %>% arrange(trt)\n",
    "\n",
    "# add significative starts\n",
    "emdf['sig'] <- makeStars(emdf$p.value)\n",
    "\n",
    "# restrict p-values decimals and add <0.0001 where correspond\n",
    "emdf[,\"p.value\"] <- pvalue(emdf[,\"p.value\"], accuracy = 0.001)\n",
    "\n",
    "# round all values to 4 decimals\n",
    "embf <- emdf %>% mutate(across(where(is.numeric), round, 4))\n",
    "\n",
    "print(embf)"
   ]
  },
  {
   "cell_type": "code",
   "execution_count": null,
   "id": "aaf1860e",
   "metadata": {
    "vscode": {
     "languageId": "r"
    }
   },
   "outputs": [],
   "source": []
  }
 ],
 "metadata": {
  "kernelspec": {
   "display_name": "R",
   "language": "R",
   "name": "ir"
  },
  "language_info": {
   "codemirror_mode": "r",
   "file_extension": ".r",
   "mimetype": "text/x-r-source",
   "name": "R",
   "pygments_lexer": "r",
   "version": "4.3.2"
  }
 },
 "nbformat": 4,
 "nbformat_minor": 5
}
