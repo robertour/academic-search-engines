{
 "cells": [
  {
   "cell_type": "code",
   "execution_count": 1,
   "id": "61bb94d1-b934-49e0-8d29-0ac9f9d5c268",
   "metadata": {
    "tags": [],
    "vscode": {
     "languageId": "r"
    }
   },
   "outputs": [
    {
     "name": "stderr",
     "output_type": "stream",
     "text": [
      "\n",
      "Attaching package: ‘dplyr’\n",
      "\n",
      "\n",
      "The following objects are masked from ‘package:stats’:\n",
      "\n",
      "    filter, lag\n",
      "\n",
      "\n",
      "The following objects are masked from ‘package:base’:\n",
      "\n",
      "    intersect, setdiff, setequal, union\n",
      "\n",
      "\n",
      "Loading required package: Matrix\n",
      "\n",
      "\n",
      "Attaching package: ‘lmerTest’\n",
      "\n",
      "\n",
      "The following object is masked from ‘package:lme4’:\n",
      "\n",
      "    lmer\n",
      "\n",
      "\n",
      "The following object is masked from ‘package:stats’:\n",
      "\n",
      "    step\n",
      "\n",
      "\n"
     ]
    }
   ],
   "source": [
    "# install.packages(\"markdown\")\n",
    "library(knitr)\n",
    "\n",
    "\n",
    "# Loading\n",
    "library(dplyr)\n",
    "\n",
    "# to get R2 in lmer\n",
    "# library(sjstats)\n",
    "# library(sjPlot)\n",
    "\n",
    "\n",
    "# fit and test linear mixed models\n",
    "library(lme4)\n",
    "library(lmerTest)\n",
    "\n",
    "# contrasts\n",
    "# install.packages(\"pbkrtest\")\n",
    "library(emmeans)\n",
    "\n",
    "# function pvalue is here\n",
    "library(scales)\n",
    "\n",
    "# code to add *, ** and *** for significances\n",
    "makeStars <- function(x){\n",
    "  stars <- c(\"***\", \"**\", \"*\", \"\")\n",
    "  vec <- c(0, 0.001, 0.01, 0.05, 1.1)\n",
    "  i <- findInterval(x, vec)\n",
    "  stars[i]\n",
    "}\n",
    "\n",
    "# xlsx files\n",
    "df <- read.csv(\"data/main.csv\")\n",
    "\n",
    "df <- df[df['engine']=='google',]"
   ]
  },
  {
   "attachments": {},
   "cell_type": "markdown",
   "id": "7b706ae0",
   "metadata": {},
   "source": [
    "# Factorization"
   ]
  },
  {
   "cell_type": "code",
   "execution_count": 2,
   "id": "5ed92374-aeea-47f4-8bc2-3dde83caff27",
   "metadata": {
    "tags": [],
    "vscode": {
     "languageId": "r"
    }
   },
   "outputs": [],
   "source": [
    "# factorize topics\n",
    "df$region <- as.factor(df$region)\n",
    "df$browser <- as.factor(df$browser)\n",
    "df$id <- as.factor(df$id)\n",
    "\n",
    "df$topic <- as.factor(df$topic)\n",
    "df$trt <- factor(df$trt, levels = c('risks', 'benefits'))\n"
   ]
  },
  {
   "attachments": {},
   "cell_type": "markdown",
   "id": "8b5bcdfa",
   "metadata": {},
   "source": [
    "# Full Analisys"
   ]
  },
  {
   "cell_type": "code",
   "execution_count": 3,
   "id": "20ce7b2a",
   "metadata": {
    "vscode": {
     "languageId": "r"
    }
   },
   "outputs": [
    {
     "name": "stderr",
     "output_type": "stream",
     "text": [
      "boundary (singular) fit: see help('isSingular')\n",
      "\n"
     ]
    },
    {
     "name": "stdout",
     "output_type": "stream",
     "text": [
      "Type II Analysis of Variance Table with Satterthwaite's method\n",
      "          Sum Sq Mean Sq NumDF DenDF   F value    Pr(>F)    \n",
      "trt       425.64  425.64     1 13314 1891.4837 < 2.2e-16 ***\n",
      "topic     771.04  154.21     5 13314  685.2834 < 2.2e-16 ***\n",
      "region      1.89    1.89     1 13314    8.4007  0.003757 ** \n",
      "browser     0.00    0.00     1 13314    0.0063  0.936556    \n",
      "trt:topic 302.78   60.56     5 13314  269.1050 < 2.2e-16 ***\n",
      "---\n",
      "Signif. codes:  0 ‘***’ 0.001 ‘**’ 0.01 ‘*’ 0.05 ‘.’ 0.1 ‘ ’ 1\n",
      "Linear mixed model fit by REML. t-tests use Satterthwaite's method ['lmerModLmerTest']\n",
      "Formula: valence ~ trt * topic + region + browser + (day | id)\n",
      "   Data: df\n",
      "\n",
      "REML criterion at convergence: 18025.7\n",
      "\n",
      "Scaled residuals: \n",
      "    Min      1Q  Median      3Q     Max \n",
      "-2.7589 -0.7581 -0.1054  0.6550  2.1306 \n",
      "\n",
      "Random effects:\n",
      " Groups   Name        Variance  Std.Dev.  Corr\n",
      " id       (Intercept) 0.000e+00 0.000e+00     \n",
      "          day         2.077e-19 4.557e-10  NaN\n",
      " Residual             2.250e-01 4.744e-01     \n",
      "Number of obs: 13328, groups:  id, 112\n",
      "\n",
      "Fixed effects:\n",
      "                                    Estimate Std. Error         df t value Pr(>|t|)    \n",
      "(Intercept)                        3.837e-01  1.534e-02  1.331e+04  25.017  < 2e-16 ***\n",
      "trtbenefits                       -1.696e-01  2.005e-02  1.331e+04  -8.463  < 2e-16 ***\n",
      "topiccovid vaccines               -7.500e-02  2.060e-02  1.331e+04  -3.642 0.000272 ***\n",
      "topiccryptocurrencies             -5.786e-01  2.005e-02  1.331e+04 -28.862  < 2e-16 ***\n",
      "topicinternet                     -8.554e-01  2.005e-02  1.331e+04 -42.670  < 2e-16 ***\n",
      "topicsocial media                 -6.696e-01  2.005e-02  1.331e+04 -33.405  < 2e-16 ***\n",
      "topicvaccines                     -2.696e-01  2.005e-02  1.331e+04 -13.451  < 2e-16 ***\n",
      "regionoh                          -2.415e-02  8.332e-03  1.331e+04  -2.898 0.003757 ** \n",
      "browserfirefox                    -6.581e-04  8.267e-03  1.331e+04  -0.080 0.936556    \n",
      "trtbenefits:topiccovid vaccines    3.179e-01  2.874e-02  1.331e+04  11.060  < 2e-16 ***\n",
      "trtbenefits:topiccryptocurrencies  8.786e-01  2.835e-02  1.331e+04  30.991  < 2e-16 ***\n",
      "trtbenefits:topicinternet          7.161e-01  2.835e-02  1.331e+04  25.259  < 2e-16 ***\n",
      "trtbenefits:topicsocial media      4.696e-01  2.835e-02  1.331e+04  16.566  < 2e-16 ***\n",
      "trtbenefits:topicvaccines          7.696e-01  2.835e-02  1.331e+04  27.149  < 2e-16 ***\n",
      "---\n",
      "Signif. codes:  0 ‘***’ 0.001 ‘**’ 0.01 ‘*’ 0.05 ‘.’ 0.1 ‘ ’ 1\n"
     ]
    },
    {
     "name": "stderr",
     "output_type": "stream",
     "text": [
      "\n",
      "Correlation matrix not shown by default, as p = 14 > 12.\n",
      "Use print(summary(fit), correlation=TRUE)  or\n",
      "    vcov(summary(fit))        if you need it\n",
      "\n",
      "\n"
     ]
    },
    {
     "name": "stdout",
     "output_type": "stream",
     "text": [
      "optimizer (nloptwrap) convergence code: 0 (OK)\n",
      "boundary (singular) fit: see help('isSingular')\n",
      "\n"
     ]
    }
   ],
   "source": [
    "options(width = 10000)\n",
    "\n",
    "fit <- lmer(valence ~   trt * topic + region + browser + (day|id),  data = df)\n",
    "\n",
    "print(anova(fit, type='II'))\n",
    "print(summary(fit))\n"
   ]
  },
  {
   "attachments": {},
   "cell_type": "markdown",
   "id": "184b070d-c826-49eb-8193-a5e0429b8cd5",
   "metadata": {
    "vscode": {
     "languageId": "r"
    }
   },
   "source": [
    "# Contrasts for Treatment: Risks vs Benefits"
   ]
  },
  {
   "cell_type": "code",
   "execution_count": 4,
   "id": "fc7ff4d0",
   "metadata": {
    "vscode": {
     "languageId": "r"
    }
   },
   "outputs": [
    {
     "data": {
      "text/plain": [
       " topic            trt_pairwise     estimate     SE  df asymp.LCL asymp.UCL z.ratio p.value\n",
       " coffee           risks - benefits    0.170 0.0200 Inf     0.117    0.2225   8.463  <.0001\n",
       " covid vaccines   risks - benefits   -0.148 0.0206 Inf    -0.203   -0.0939  -7.197  <.0001\n",
       " cryptocurrencies risks - benefits   -0.709 0.0200 Inf    -0.762   -0.6560 -35.365  <.0001\n",
       " internet         risks - benefits   -0.546 0.0200 Inf    -0.599   -0.4935 -27.259  <.0001\n",
       " social media     risks - benefits   -0.300 0.0200 Inf    -0.353   -0.2471 -14.966  <.0001\n",
       " vaccines         risks - benefits   -0.600 0.0200 Inf    -0.653   -0.5471 -29.931  <.0001\n",
       "\n",
       "Results are averaged over some or all of the levels of: region, browser \n",
       "Degrees-of-freedom method: asymptotic \n",
       "Confidence level used: 0.95 \n",
       "Conf-level adjustment: bonferroni method for 6 estimates \n",
       "P value adjustment: bonferroni method for 6 tests "
      ]
     },
     "metadata": {},
     "output_type": "display_data"
    }
   ],
   "source": [
    "# asymptotic is used for approximations because other methods (\"kenward-roger\", \"satterthwaite\") are \n",
    "# computationally too expensive\n",
    "# https://link.springer.com/article/10.3758/s13428-016-0809-y\n",
    "\n",
    "\n",
    "the_means <- emmeans(fit, ~  trt |(topic), lmer.df = \"asymptotic\")\n",
    "contrast_trt <- pairs(the_means)\n",
    "# print(contrast_trt)\n",
    "\n",
    "\n",
    "# create dataframe of contrasts\n",
    "em <- pairs(the_means, interaction = \"pairwise\", infer = c(TRUE, TRUE)) %>%  rbind() \n",
    "\n",
    "# bonferroni method for 16 tests \n",
    "em"
   ]
  },
  {
   "cell_type": "code",
   "execution_count": 5,
   "id": "6ce9b497",
   "metadata": {
    "vscode": {
     "languageId": "r"
    }
   },
   "outputs": [
    {
     "name": "stderr",
     "output_type": "stream",
     "text": [
      "Warning message:\n",
      "“\u001b[1m\u001b[22mThere was 1 warning in `mutate()`.\n",
      "\u001b[1m\u001b[22m\u001b[36mℹ\u001b[39m In argument: `across(where(is.numeric), round, 4)`.\n",
      "Caused by warning:\n",
      "\u001b[1m\u001b[22m\u001b[33m!\u001b[39m The `...` argument of `across()` is deprecated as of dplyr 1.1.0.\n",
      "Supply arguments directly to `.fns` through an anonymous function instead.\n",
      "\n",
      "  # Previously\n",
      "  across(a:b, mean, na.rm = TRUE)\n",
      "\n",
      "  # Now\n",
      "  across(a:b, \\(x) mean(x, na.rm = TRUE))”\n"
     ]
    },
    {
     "name": "stdout",
     "output_type": "stream",
     "text": [
      "              topic      trt  emmean     SE  df asymp.LCL asymp.UCL\n",
      "1            coffee    risks  0.3713 0.0142 Inf    0.3307    0.4120\n",
      "2            coffee benefits  0.2017 0.0142 Inf    0.1610    0.2424\n",
      "3    covid vaccines    risks  0.2963 0.0150 Inf    0.2535    0.3392\n",
      "4    covid vaccines benefits  0.4446 0.0142 Inf    0.4039    0.4852\n",
      "5  cryptocurrencies    risks -0.2072 0.0142 Inf   -0.2479   -0.1666\n",
      "6  cryptocurrencies benefits  0.5017 0.0142 Inf    0.4610    0.5424\n",
      "7          internet    risks -0.4840 0.0142 Inf   -0.5247   -0.4434\n",
      "8          internet benefits  0.0624 0.0142 Inf    0.0218    0.1031\n",
      "9      social media    risks -0.2983 0.0142 Inf   -0.3390   -0.2576\n",
      "10     social media benefits  0.0017 0.0142 Inf   -0.0390    0.0424\n",
      "11         vaccines    risks  0.1017 0.0142 Inf    0.0610    0.1424\n",
      "12         vaccines benefits  0.7017 0.0142 Inf    0.6610    0.7424\n"
     ]
    }
   ],
   "source": [
    "print (the_means %>%  rbind() %>% as.data.frame() \n",
    "        %>% mutate(across(where(is.numeric), round, 4)))\n",
    "     "
   ]
  },
  {
   "cell_type": "code",
   "execution_count": 6,
   "id": "c8a8378e",
   "metadata": {
    "vscode": {
     "languageId": "r"
    }
   },
   "outputs": [
    {
     "name": "stdout",
     "output_type": "stream",
     "text": [
      "             topic     trt_pairwise estimate     SE  df asymp.LCL asymp.UCL  z.ratio p.value sig\n",
      "1         vaccines risks - benefits  -0.6000 0.0200 Inf   -0.6529   -0.5471 -29.9313  <0.001 ***\n",
      "2     social media risks - benefits  -0.3000 0.0200 Inf   -0.3529   -0.2471 -14.9657  <0.001 ***\n",
      "3         internet risks - benefits  -0.5464 0.0200 Inf   -0.5993   -0.4935 -27.2589  <0.001 ***\n",
      "4 cryptocurrencies risks - benefits  -0.7089 0.0200 Inf   -0.7618   -0.6560 -35.3653  <0.001 ***\n",
      "5   covid vaccines risks - benefits  -0.1482 0.0206 Inf   -0.2025   -0.0939  -7.1965  <0.001 ***\n",
      "6           coffee risks - benefits   0.1696 0.0200 Inf    0.1168    0.2225   8.4627  <0.001 ***\n"
     ]
    }
   ],
   "source": [
    "# convert to data frame and sort\n",
    "emdf <-  as.data.frame(em) %>% arrange(desc(topic))\n",
    "\n",
    "# add significative starts\n",
    "emdf['sig'] <- makeStars(emdf$p.value)\n",
    "\n",
    "# restrict p-values decimals and add <0.0001 where correspond\n",
    "emdf[,\"p.value\"] <- pvalue(emdf[,\"p.value\"], accuracy = 0.001)\n",
    "\n",
    "# round all values to 4 decimals\n",
    "embf <- emdf %>% mutate(across(where(is.numeric), round, 4))\n",
    "\n",
    "print(embf)\n",
    "     \n"
   ]
  },
  {
   "attachments": {},
   "cell_type": "markdown",
   "id": "e6b9ee8b",
   "metadata": {},
   "source": [
    "# Contrasts for Treatment: Health vs Technology"
   ]
  },
  {
   "cell_type": "code",
   "execution_count": 7,
   "id": "1f665c3b",
   "metadata": {
    "vscode": {
     "languageId": "r"
    }
   },
   "outputs": [
    {
     "data": {
      "text/plain": [
       " trt      topic_pairwise                    estimate     SE  df asymp.LCL asymp.UCL z.ratio p.value\n",
       " risks    coffee - covid vaccines             0.0750 0.0206 Inf   0.01025   0.13975   3.642  0.0081\n",
       " risks    coffee - cryptocurrencies           0.5786 0.0200 Inf   0.51555   0.64160  28.862  <.0001\n",
       " risks    coffee - internet                   0.8554 0.0200 Inf   0.79233   0.91838  42.670  <.0001\n",
       " risks    coffee - social media               0.6696 0.0200 Inf   0.60662   0.73267  33.405  <.0001\n",
       " risks    coffee - vaccines                   0.2696 0.0200 Inf   0.20662   0.33267  13.451  <.0001\n",
       " risks    covid vaccines - cryptocurrencies   0.5036 0.0206 Inf   0.43882   0.56832  24.451  <.0001\n",
       " risks    covid vaccines - internet           0.7804 0.0206 Inf   0.71561   0.84511  37.890  <.0001\n",
       " risks    covid vaccines - social media       0.5946 0.0206 Inf   0.52989   0.65939  28.873  <.0001\n",
       " risks    covid vaccines - vaccines           0.1946 0.0206 Inf   0.12989   0.25939   9.451  <.0001\n",
       " risks    cryptocurrencies - internet         0.2768 0.0200 Inf   0.21376   0.33981  13.808  <.0001\n",
       " risks    cryptocurrencies - social media     0.0911 0.0200 Inf   0.02805   0.15410   4.543  0.0002\n",
       " risks    cryptocurrencies - vaccines        -0.3089 0.0200 Inf  -0.37195  -0.24590 -15.411  <.0001\n",
       " risks    internet - social media            -0.1857 0.0200 Inf  -0.24874  -0.12269  -9.264  <.0001\n",
       " risks    internet - vaccines                -0.5857 0.0200 Inf  -0.64874  -0.52269 -29.219  <.0001\n",
       " risks    social media - vaccines            -0.4000 0.0200 Inf  -0.46302  -0.33698 -19.954  <.0001\n",
       " benefits coffee - covid vaccines            -0.2429 0.0200 Inf  -0.30588  -0.17983 -12.115  <.0001\n",
       " benefits coffee - cryptocurrencies          -0.3000 0.0200 Inf  -0.36302  -0.23698 -14.966  <.0001\n",
       " benefits coffee - internet                   0.1393 0.0200 Inf   0.07626   0.20231   6.948  <.0001\n",
       " benefits coffee - social media               0.2000 0.0200 Inf   0.13698   0.26302   9.977  <.0001\n",
       " benefits coffee - vaccines                  -0.5000 0.0200 Inf  -0.56302  -0.43698 -24.943  <.0001\n",
       " benefits covid vaccines - cryptocurrencies  -0.0571 0.0200 Inf  -0.12017   0.00588  -2.851  0.1309\n",
       " benefits covid vaccines - internet           0.3821 0.0200 Inf   0.31912   0.44517  19.063  <.0001\n",
       " benefits covid vaccines - social media       0.4429 0.0200 Inf   0.37983   0.50588  22.092  <.0001\n",
       " benefits covid vaccines - vaccines          -0.2571 0.0200 Inf  -0.32017  -0.19412 -12.828  <.0001\n",
       " benefits cryptocurrencies - internet         0.4393 0.0200 Inf   0.37626   0.50231  21.914  <.0001\n",
       " benefits cryptocurrencies - social media     0.5000 0.0200 Inf   0.43698   0.56302  24.943  <.0001\n",
       " benefits cryptocurrencies - vaccines        -0.2000 0.0200 Inf  -0.26302  -0.13698  -9.977  <.0001\n",
       " benefits internet - social media             0.0607 0.0200 Inf  -0.00231   0.12374   3.029  0.0737\n",
       " benefits internet - vaccines                -0.6393 0.0200 Inf  -0.70231  -0.57626 -31.891  <.0001\n",
       " benefits social media - vaccines            -0.7000 0.0200 Inf  -0.76302  -0.63698 -34.920  <.0001\n",
       "\n",
       "Results are averaged over some or all of the levels of: region, browser \n",
       "Degrees-of-freedom method: asymptotic \n",
       "Confidence level used: 0.95 \n",
       "Conf-level adjustment: bonferroni method for 30 estimates \n",
       "P value adjustment: bonferroni method for 30 tests "
      ]
     },
     "metadata": {},
     "output_type": "display_data"
    }
   ],
   "source": [
    "# asymptotic is used for approximations because other methods (\"kenward-roger\", \"satterthwaite\") are \n",
    "# computationally too expensive\n",
    "# https://link.springer.com/article/10.3758/s13428-016-0809-y\n",
    "\n",
    "\n",
    "the_means <- emmeans(fit, ~  topic |(trt), lmer.df = \"asymptotic\")\n",
    "contrast_trt <- pairs(the_means)\n",
    "# print(contrast_trt)\n",
    "\n",
    "\n",
    "# create dataframe of contrasts\n",
    "em <- pairs(the_means, interaction = \"pairwise\", infer = c(TRUE, TRUE)) %>%  rbind() \n",
    "\n",
    "# bonferroni method for 16 tests \n",
    "em"
   ]
  },
  {
   "cell_type": "code",
   "execution_count": 8,
   "id": "b1230576",
   "metadata": {
    "vscode": {
     "languageId": "r"
    }
   },
   "outputs": [
    {
     "name": "stdout",
     "output_type": "stream",
     "text": [
      "        trt            topic  emmean     SE  df asymp.LCL asymp.UCL\n",
      "1     risks           coffee  0.3713 0.0142 Inf    0.3307    0.4120\n",
      "2     risks   covid vaccines  0.2963 0.0150 Inf    0.2535    0.3392\n",
      "3     risks cryptocurrencies -0.2072 0.0142 Inf   -0.2479   -0.1666\n",
      "4     risks         internet -0.4840 0.0142 Inf   -0.5247   -0.4434\n",
      "5     risks     social media -0.2983 0.0142 Inf   -0.3390   -0.2576\n",
      "6     risks         vaccines  0.1017 0.0142 Inf    0.0610    0.1424\n",
      "7  benefits           coffee  0.2017 0.0142 Inf    0.1610    0.2424\n",
      "8  benefits   covid vaccines  0.4446 0.0142 Inf    0.4039    0.4852\n",
      "9  benefits cryptocurrencies  0.5017 0.0142 Inf    0.4610    0.5424\n",
      "10 benefits         internet  0.0624 0.0142 Inf    0.0218    0.1031\n",
      "11 benefits     social media  0.0017 0.0142 Inf   -0.0390    0.0424\n",
      "12 benefits         vaccines  0.7017 0.0142 Inf    0.6610    0.7424\n"
     ]
    }
   ],
   "source": [
    "print (the_means %>%  rbind() %>% as.data.frame() \n",
    "         %>% mutate(across(where(is.numeric), round, 4)))\n",
    "     "
   ]
  },
  {
   "cell_type": "code",
   "execution_count": 9,
   "id": "218b6198",
   "metadata": {
    "vscode": {
     "languageId": "r"
    }
   },
   "outputs": [
    {
     "name": "stdout",
     "output_type": "stream",
     "text": [
      "        trt                    topic_pairwise estimate     SE  df asymp.LCL asymp.UCL  z.ratio p.value sig\n",
      "1  benefits           coffee - covid vaccines  -0.2429 0.0200 Inf   -0.3059   -0.1798 -12.1151  <0.001 ***\n",
      "2  benefits         coffee - cryptocurrencies  -0.3000 0.0200 Inf   -0.3630   -0.2370 -14.9657  <0.001 ***\n",
      "3  benefits                 coffee - internet   0.1393 0.0200 Inf    0.0763    0.2023   6.9483  <0.001 ***\n",
      "4  benefits             coffee - social media   0.2000 0.0200 Inf    0.1370    0.2630   9.9771  <0.001 ***\n",
      "5  benefits                 coffee - vaccines  -0.5000 0.0200 Inf   -0.5630   -0.4370 -24.9428  <0.001 ***\n",
      "6  benefits covid vaccines - cryptocurrencies  -0.0571 0.0200 Inf   -0.1202    0.0059  -2.8506   0.131    \n",
      "7  benefits         covid vaccines - internet   0.3821 0.0200 Inf    0.3191    0.4452  19.0634  <0.001 ***\n",
      "8  benefits     covid vaccines - social media   0.4429 0.0200 Inf    0.3798    0.5059  22.0922  <0.001 ***\n",
      "9  benefits         covid vaccines - vaccines  -0.2571 0.0200 Inf   -0.3202   -0.1941 -12.8277  <0.001 ***\n",
      "10 benefits       cryptocurrencies - internet   0.4393 0.0200 Inf    0.3763    0.5023  21.9140  <0.001 ***\n",
      "11 benefits   cryptocurrencies - social media   0.5000 0.0200 Inf    0.4370    0.5630  24.9428  <0.001 ***\n",
      "12 benefits       cryptocurrencies - vaccines  -0.2000 0.0200 Inf   -0.2630   -0.1370  -9.9771  <0.001 ***\n",
      "13 benefits           internet - social media   0.0607 0.0200 Inf   -0.0023    0.1237   3.0288   0.074    \n",
      "14 benefits               internet - vaccines  -0.6393 0.0200 Inf   -0.7023   -0.5763 -31.8911  <0.001 ***\n",
      "15 benefits           social media - vaccines  -0.7000 0.0200 Inf   -0.7630   -0.6370 -34.9199  <0.001 ***\n",
      "16    risks           coffee - covid vaccines   0.0750 0.0206 Inf    0.0102    0.1398   3.6416   0.008  **\n",
      "17    risks         coffee - cryptocurrencies   0.5786 0.0200 Inf    0.5155    0.6416  28.8623  <0.001 ***\n",
      "18    risks                 coffee - internet   0.8554 0.0200 Inf    0.7923    0.9184  42.6699  <0.001 ***\n",
      "19    risks             coffee - social media   0.6696 0.0200 Inf    0.6066    0.7327  33.4055  <0.001 ***\n",
      "20    risks                 coffee - vaccines   0.2696 0.0200 Inf    0.2066    0.3327  13.4513  <0.001 ***\n",
      "21    risks covid vaccines - cryptocurrencies   0.5036 0.0206 Inf    0.4388    0.5683  24.4509  <0.001 ***\n",
      "22    risks         covid vaccines - internet   0.7804 0.0206 Inf    0.7156    0.8451  37.8902  <0.001 ***\n",
      "23    risks     covid vaccines - social media   0.5946 0.0206 Inf    0.5299    0.6594  28.8729  <0.001 ***\n",
      "24    risks         covid vaccines - vaccines   0.1946 0.0206 Inf    0.1299    0.2594   9.4509  <0.001 ***\n",
      "25    risks       cryptocurrencies - internet   0.2768 0.0200 Inf    0.2138    0.3398  13.8076  <0.001 ***\n",
      "26    risks   cryptocurrencies - social media   0.0911 0.0200 Inf    0.0280    0.1541   4.5431  <0.001 ***\n",
      "27    risks       cryptocurrencies - vaccines  -0.3089 0.0200 Inf   -0.3720   -0.2459 -15.4111  <0.001 ***\n",
      "28    risks           internet - social media  -0.1857 0.0200 Inf   -0.2487   -0.1227  -9.2645  <0.001 ***\n",
      "29    risks               internet - vaccines  -0.5857 0.0200 Inf   -0.6487   -0.5227 -29.2187  <0.001 ***\n",
      "30    risks           social media - vaccines  -0.4000 0.0200 Inf   -0.4630   -0.3370 -19.9542  <0.001 ***\n"
     ]
    }
   ],
   "source": [
    "# convert to data frame and sort\n",
    "emdf <-  as.data.frame(em) %>% arrange(trt)\n",
    "\n",
    "# add significative starts\n",
    "emdf['sig'] <- makeStars(emdf$p.value)\n",
    "\n",
    "# restrict p-values decimals and add <0.0001 where correspond\n",
    "emdf[,\"p.value\"] <- pvalue(emdf[,\"p.value\"], accuracy = 0.001)\n",
    "\n",
    "# round all values to 4 decimals\n",
    "embf <- emdf %>% mutate(across(where(is.numeric), round, 4))\n",
    "\n",
    "print(embf)"
   ]
  },
  {
   "cell_type": "code",
   "execution_count": null,
   "id": "aaf1860e",
   "metadata": {
    "vscode": {
     "languageId": "r"
    }
   },
   "outputs": [],
   "source": []
  }
 ],
 "metadata": {
  "kernelspec": {
   "display_name": "R",
   "language": "R",
   "name": "ir"
  },
  "language_info": {
   "codemirror_mode": "r",
   "file_extension": ".r",
   "mimetype": "text/x-r-source",
   "name": "R",
   "pygments_lexer": "r",
   "version": "4.3.2"
  }
 },
 "nbformat": 4,
 "nbformat_minor": 5
}
